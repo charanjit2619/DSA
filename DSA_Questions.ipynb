{
 "cells": [
  {
   "attachments": {},
   "cell_type": "markdown",
   "metadata": {},
   "source": [
    "# Linked List"
   ]
  },
  {
   "cell_type": "code",
   "execution_count": 95,
   "metadata": {},
   "outputs": [],
   "source": [
    "class Element:\n",
    "    def __init__(self, value):\n",
    "        self.value = value\n",
    "        self.next = None\n",
    "\n",
    "   \n",
    "class LinkedList:\n",
    "    def __init__(self, head = None):\n",
    "        self.head = head\n",
    "\n",
    "    def __repr__(self):\n",
    "        l = []\n",
    "        current = self.head\n",
    "        while current:\n",
    "            l.append(current.value)\n",
    "            current = current.next\n",
    "        return str(l)\n",
    "\n",
    "    def append_element(self, element):\n",
    "        if self.head == None:\n",
    "            self.head = element\n",
    "        else:\n",
    "            current = self.head\n",
    "            while current.next:\n",
    "                current = current.next\n",
    "            current.next = element\n",
    "    \n",
    "    \n",
    "\n"
   ]
  },
  {
   "cell_type": "code",
   "execution_count": 96,
   "metadata": {},
   "outputs": [
    {
     "name": "stdout",
     "output_type": "stream",
     "text": [
      "[5, 4, 10]\n"
     ]
    }
   ],
   "source": [
    "l = LinkedList(Element(5))\n",
    "l.append_element(Element(4))\n",
    "l.append_element(Element(10))\n",
    "print(l)"
   ]
  },
  {
   "attachments": {},
   "cell_type": "markdown",
   "metadata": {},
   "source": [
    "# Finding second largest element in an array:\n",
    "Naive Approach--> sort the array and return the second largest element which is not equal to the largest element\n",
    "\n"
   ]
  },
  {
   "cell_type": "code",
   "execution_count": null,
   "metadata": {},
   "outputs": [],
   "source": [
    "'''\n",
    "# considerations:\n",
    "an element may be repeated\n",
    "the array may have only one element \n",
    "'''"
   ]
  },
  {
   "cell_type": "code",
   "execution_count": 1,
   "metadata": {},
   "outputs": [],
   "source": [
    "def largest_2(arr):\n",
    "    arr = list(set(arr))\n",
    "    if len(arr) <= 1:\n",
    "        return -1\n",
    "    else:\n",
    "        arr.sort()\n",
    "        return arr[-2]"
   ]
  },
  {
   "cell_type": "code",
   "execution_count": 5,
   "metadata": {},
   "outputs": [
    {
     "data": {
      "text/plain": [
       "-6"
      ]
     },
     "execution_count": 5,
     "metadata": {},
     "output_type": "execute_result"
    }
   ],
   "source": [
    "#test cases:\n",
    "l1 = [10, 25, -12, -6, 20, 20]\n",
    "l2 = [-12, -10, -10, -6, -5] \n",
    "l3 = [-3, -3, -3, -3, -3]\n",
    "largest_2(l2)"
   ]
  },
  {
   "attachments": {},
   "cell_type": "markdown",
   "metadata": {},
   "source": [
    "Rotate the array to the left by K steps"
   ]
  },
  {
   "cell_type": "code",
   "execution_count": 22,
   "metadata": {},
   "outputs": [
    {
     "name": "stdout",
     "output_type": "stream",
     "text": [
      "3 4 5 6 7 8 1 2\n"
     ]
    }
   ],
   "source": [
    "num_elements =  int(input())\n",
    "sequence = input().split(\" \") \n",
    "k = int(input())\n",
    "\n",
    "sequence = sequence[k:] + sequence[0:k]\n",
    "print(\" \".join(sequence))"
   ]
  },
  {
   "cell_type": "code",
   "execution_count": 21,
   "metadata": {},
   "outputs": [
    {
     "name": "stdout",
     "output_type": "stream",
     "text": [
      "['1', '2', '3', '4', '5']\n"
     ]
    }
   ],
   "source": [
    "txt = \"1 2 3 4 5\"\n",
    "txt = txt.split()\n",
    "print(txt)"
   ]
  },
  {
   "cell_type": "code",
   "execution_count": 20,
   "metadata": {},
   "outputs": [
    {
     "data": {
      "text/plain": [
       "'1 2 3 4 5'"
      ]
     },
     "execution_count": 20,
     "metadata": {},
     "output_type": "execute_result"
    }
   ],
   "source": [
    "\" \".join(txt)"
   ]
  },
  {
   "attachments": {},
   "cell_type": "markdown",
   "metadata": {},
   "source": [
    "# Equillibrium index\n",
    "It is an index at which the sum of elements to its right is equal to the sum of elements to its left"
   ]
  },
  {
   "cell_type": "code",
   "execution_count": 67,
   "metadata": {},
   "outputs": [],
   "source": [
    "def equillibrium_index(arr):\n",
    "    total = sum(arr)\n",
    "    lsum = 0\n",
    "    for i in range(1, len(arr) -1):\n",
    "        lsum += arr[i-1]\n",
    "        midsum = (total - arr[i])/2 \n",
    "        if lsum == midsum:\n",
    "            return i\n",
    "    return -1\n",
    "# ----------\n",
    "\n",
    "def eq_index(arr):\n",
    "    s = sum(arr)\n",
    "    lsum = 0\n",
    "    n = len(arr)\n",
    "    for i in range(1, n-1):\n",
    "        lsum += arr[i - 1]\n",
    "        rsum = (s - arr[i]) - lsum\n",
    "        if lsum == rsum:\n",
    "            return i\n",
    "    return -1"
   ]
  },
  {
   "cell_type": "code",
   "execution_count": 46,
   "metadata": {},
   "outputs": [
    {
     "data": {
      "text/plain": [
       "1"
      ]
     },
     "execution_count": 46,
     "metadata": {},
     "output_type": "execute_result"
    }
   ],
   "source": [
    "l = [21, 2, 0, 15, 6] # both right and left elements add upto 21\n",
    "equillibrium_index(l)"
   ]
  },
  {
   "attachments": {},
   "cell_type": "markdown",
   "metadata": {},
   "source": [
    "# Finding the min positive missing number"
   ]
  },
  {
   "cell_type": "code",
   "execution_count": 63,
   "metadata": {},
   "outputs": [],
   "source": [
    "def firstMissingPositive(nums: list[int]) -> int:\n",
    "    nums = list(set(nums))\n",
    "    nums.sort()\n",
    "    n = len(nums)\n",
    "    k = 1\n",
    "    for i in range(n):\n",
    "        if nums[i] > 0:\n",
    "            if nums[i] == k:\n",
    "                k += 1\n",
    "            else:\n",
    "                return k\n",
    "    return k \n"
   ]
  },
  {
   "cell_type": "code",
   "execution_count": 77,
   "metadata": {},
   "outputs": [
    {
     "name": "stdout",
     "output_type": "stream",
     "text": [
      "[(1, 6), (2, 7), (3, 8), (4, 9), (5, 10)]\n"
     ]
    }
   ],
   "source": [
    "l = [1, 2, 3, 4]\n",
    "\n",
    "def func(n):\n",
    "    return n**2\n",
    "\n",
    "l1 = [1, 2, 3, 4, 5]\n",
    "l2 = [6, 7, 8, 9, 10]\n",
    "l3 = zip(l1, l2)\n",
    "print(list(l3))"
   ]
  },
  {
   "cell_type": "code",
   "execution_count": 81,
   "metadata": {},
   "outputs": [],
   "source": [
    "def func(nums, target):\n",
    "    n = len(nums)\n",
    "    for i in range(n - 1):\n",
    "        idx1 = i\n",
    "        if target - nums[i] in nums[i + 1:]:\n",
    "            print(idx1)\n",
    "            idx2 = nums[i + 1:].index(target - nums[i]) + 1 + i\n",
    "    return [idx1, idx2] "
   ]
  },
  {
   "cell_type": "code",
   "execution_count": 82,
   "metadata": {},
   "outputs": [
    {
     "name": "stdout",
     "output_type": "stream",
     "text": [
      "0\n"
     ]
    },
    {
     "data": {
      "text/plain": [
       "[2, 1]"
      ]
     },
     "execution_count": 82,
     "metadata": {},
     "output_type": "execute_result"
    }
   ],
   "source": [
    "t = [2, 7, 11, 15]\n",
    "func(t, 9)"
   ]
  },
  {
   "cell_type": "markdown",
   "metadata": {},
   "source": [
    "# Length of longest substring"
   ]
  },
  {
   "cell_type": "code",
   "execution_count": 1,
   "metadata": {},
   "outputs": [],
   "source": [
    "def lengthOfLongestSubstring(self, s: str) -> int:\n",
    "    counters = [0]\n",
    "    l = []\n",
    "    i = 0\n",
    "    \n",
    "    if len(s) == 0:\n",
    "        return 0\n",
    "    elif len(s) == 1:\n",
    "        return 1\n",
    "    else:\n",
    "        for letter in s:\n",
    "            if letter in l:\n",
    "                counters.append(i)\n",
    "                l.clear()\n",
    "                l.append(letter)\n",
    "                i = 1\n",
    "            else:\n",
    "                l.append(letter)\n",
    "                i += 1\n",
    "        if len(counters) == 1:\n",
    "            counters.append(i)\n",
    "        return max(counters)"
   ]
  },
  {
   "cell_type": "markdown",
   "metadata": {},
   "source": [
    "# Arrays"
   ]
  },
  {
   "cell_type": "code",
   "execution_count": 5,
   "metadata": {},
   "outputs": [
    {
     "data": {
      "text/plain": [
       "'\\nPython List methods:\\nlist.append() --> to add a new element at the end \\nlist.copy() --> to create a shallow copy\\nlist.clear() --> empty the list\\nlist.count() --> count the number of elements of list\\nlist.extend() --> adds all the items from an iterable (e.g., list, tuple) to the existing list\\nlist.index(value, start=None, end=None) --> returns first index where value is found in the list; if not found raises ValueError\\nlist.insert(index, element) --> insert a given element at a given index\\nlist.pop(i) --> removes and returns  the item at index is in the list\\nor remove and return the item at the specified position\\nlist.remove(x) --> remove the first occurrence of x from the list\\nlist.sort() --> Sort a list in asc/desc order\\nmin(list)\\nmax(list)\\n'"
      ]
     },
     "execution_count": 5,
     "metadata": {},
     "output_type": "execute_result"
    }
   ],
   "source": [
    "'''\n",
    "Python List methods:\n",
    "list.append() --> to add a new element at the end \n",
    "list.copy() --> to create a shallow copy\n",
    "list.clear() --> empty the list\n",
    "list.count() --> count the number of elements of list\n",
    "list.extend() --> adds all the items from an iterable (e.g., list, tuple) to the existing list\n",
    "list.index(value, start=None, end=None) --> returns first index where value is found in the list; if not found raises ValueError\n",
    "list.insert(index, element) --> insert a given element at a given index\n",
    "list.pop(i) --> removes and returns  the item at index is in the list\n",
    "or remove and return the item at the specified position\n",
    "list.remove(x) --> remove the first occurrence of x from the list\n",
    "list.sort() --> Sort a list in asc/desc order\n",
    "min(list)\n",
    "max(list)\n",
    "'''"
   ]
  },
  {
   "cell_type": "code",
   "execution_count": 2,
   "metadata": {},
   "outputs": [
    {
     "data": {
      "text/plain": [
       "[1, 2, 3]"
      ]
     },
     "execution_count": 2,
     "metadata": {},
     "output_type": "execute_result"
    }
   ],
   "source": [
    "# Two sums\n",
    "#Time Complexity: O(n)\n",
    "def twoSum(self, nums, target):\n",
    "    for n in range(len(nums) - 1):\n",
    "        if (target - nums[n] in nums[n+1:]):\n",
    "            return [n, n  + 1 + nums[n+1:].index(target - nums[n])]"
   ]
  },
  {
   "cell_type": "code",
   "execution_count": null,
   "metadata": {},
   "outputs": [],
   "source": [
    "# Best time to buy and sell stocks\n",
    "#Time Complexity:  O(n)\n",
    "prices = [7, 1, 5, 3, 6, 4]\n",
    "max_profit = 0\n",
    "for index, buy_rate in enumerate(prices):\n",
    "    p = max(prices[index:]) - buy_rate\n",
    "    if p > max_profit:\n",
    "        max_profit = p\n",
    "\n",
    "# The above solution exceeds the time limit\n",
    "def maxProfit(self, prices) -> int:\n",
    "    max_profit = 0\n",
    "    low_price = float(\"inf\")\n",
    "    high_price = float(\"-inf\")\n",
    "    for price in prices:\n",
    "        if price < low_price:\n",
    "            low_price = price\n",
    "            high_price = price\n",
    "        elif price >= high_price:\n",
    "            high_price = price\n",
    "            max_profit = max(high_price - low_price, max_profit)\n",
    "    return max_profit\n",
    "\n",
    "#C++ Sol:\n",
    "\n",
    "# class Solution {\n",
    "# public:\n",
    "#     int maxProfit(vector<int>& prices) {\n",
    "#         int low_price = INT_MAX;\n",
    "#         int max_profit = 0;\n",
    "#         for (int price:prices){\n",
    "#             low_price = min(low_price, price);\n",
    "#             max_profit = max(max_profit, price - low_price);\n",
    "#         }\n",
    "#         return max_profit;\n",
    "#     }\n",
    "# };    "
   ]
  },
  {
   "cell_type": "code",
   "execution_count": null,
   "metadata": {},
   "outputs": [],
   "source": [
    "#Contains duplicate\n",
    "#Time Complexity: O(n)\n",
    "def containsDuplicate(self, nums) -> bool:\n",
    "    if len(nums) > len(set(nums)):\n",
    "        return  True\n",
    "    else:\n",
    "        return False"
   ]
  },
  {
   "cell_type": "code",
   "execution_count": 2,
   "metadata": {},
   "outputs": [],
   "source": [
    "# Product of Array except self\n",
    "#Time Complexity: O(n)\n",
    "def productExceptSelf(self, nums):\n",
    "    pre_prod = 1\n",
    "    post_prod = 1\n",
    "    n = len(nums)\n",
    "    answer = [1] * n\n",
    "    for i in range(n):\n",
    "        answer[i] *= pre_prod\n",
    "        pre_prod *= nums[i]\n",
    "        answer[n-i-1] *= post_prod\n",
    "        post_prod *= nums[n-i-1] \n",
    "    return answer"
   ]
  },
  {
   "cell_type": "code",
   "execution_count": 1,
   "metadata": {},
   "outputs": [],
   "source": [
    "# subarray with max sum\n",
    "#Time Complexity: O(n)\n",
    "def maxSubArray(self, nums) -> int:\n",
    "    if len(nums) == 1:\n",
    "        return nums[0]\n",
    "    else:\n",
    "        current_sum = 0\n",
    "        max_sum = float(\"-inf\")\n",
    "        for num in nums:\n",
    "            current_sum += num\n",
    "            if current_sum > max_sum:\n",
    "                max_sum = current_sum\n",
    "            if current_sum < 0:\n",
    "                    current_sum = 0\n",
    "    return max_sum\n"
   ]
  },
  {
   "cell_type": "code",
   "execution_count": 24,
   "metadata": {},
   "outputs": [
    {
     "name": "stdout",
     "output_type": "stream",
     "text": [
      "3 4\n",
      "4\n"
     ]
    }
   ],
   "source": [
    "#Max product of subarray\n",
    "#Time Complexity: O(n)\n",
    "nums = [-2, 2, 5, -2]\n",
    "\n",
    "def maxProduct(nums) -> int:\n",
    "    current_prod = 1\n",
    "    max_prod = float(\"-inf\")\n",
    "    for num in nums:\n",
    "        current_prod *= num\n",
    "        max_prod = max(max_prod, current_prod)\n",
    "        if current_prod == 0:\n",
    "            current_prod = 1\n",
    "    current_prod = 1\n",
    "    m = float(\"-inf\")\n",
    "    for num in nums[::-1]:\n",
    "        current_prod *= num\n",
    "        m = max(m, current_prod)\n",
    "        if current_prod == 0:\n",
    "            current_prod = 1\n",
    "    print(max_prod, m)\n",
    "    return max(max_prod, m)\n",
    "\n",
    "print(maxProduct([3,-1,4]))\n"
   ]
  },
  {
   "cell_type": "code",
   "execution_count": 1,
   "metadata": {},
   "outputs": [],
   "source": [
    "# Min element in Sorted and rotated element:\n",
    "# Time complexity: O(logn)\n",
    "def findMin(self, nums) -> int:\n",
    "\n",
    "    # Initialize low and high\n",
    "    low, high = 0, len(nums) - 1\n",
    "\n",
    "    # Iterate until low <= high\n",
    "    while low <= high:\n",
    "\n",
    "        # Check if the array is not rotated\n",
    "        if nums[low] <= nums[high]:\n",
    "            # Return nums[low] when the array is not rotated\n",
    "            return nums[low]\n",
    "\n",
    "        # Initialize mid if the array is rotated\n",
    "        mid = (low + high)//2\n",
    "\n",
    "        # Check the direction of traversal, \n",
    "        # refer the image for explanation\n",
    "        if nums[low] > nums[mid]:\n",
    "            high = mid\n",
    "        else:\n",
    "            low = mid + 1"
   ]
  },
  {
   "cell_type": "code",
   "execution_count": 7,
   "metadata": {},
   "outputs": [
    {
     "name": "stdout",
     "output_type": "stream",
     "text": [
      "-1\n"
     ]
    }
   ],
   "source": [
    "def search(nums, target: int) -> int:\n",
    "    n = len(nums)\n",
    "    low = 0\n",
    "    high = n-1\n",
    "    if n==1:\n",
    "        if nums[0] == target:\n",
    "            return 0\n",
    "        else:\n",
    "            return -1\n",
    "\n",
    "\n",
    "    if nums[low] < nums[high]:\n",
    "        while low != high:\n",
    "            mid = int((low+high)/2)\n",
    "            if nums[mid] > target:\n",
    "                high = mid\n",
    "            elif nums[mid] < target:\n",
    "                low = mid + 1\n",
    "            else:\n",
    "                return mid\n",
    "    else:\n",
    "        while low != high:\n",
    "            mid = int((low+high)/2)\n",
    "            if nums[mid] == target:\n",
    "                return mid\n",
    "            if nums[mid] < nums[low]:\n",
    "                if nums[low] > target:\n",
    "                    low = mid + 1\n",
    "                elif nums[low] < target:\n",
    "                    high = mid\n",
    "            elif nums[mid] > nums[low]:\n",
    "                if nums[low] > target:\n",
    "                    low = mid + 1\n",
    "                elif nums[low] < target:\n",
    "                    high = mid\n",
    "            else:\n",
    "                low += 1\n",
    "    \n",
    "    return -1\n",
    "\n",
    "\n",
    "\n",
    "print(search([4,5,6,7,0,1,2], 2))\n",
    "\n",
    "            "
   ]
  },
  {
   "cell_type": "code",
   "execution_count": null,
   "metadata": {},
   "outputs": [],
   "source": []
  }
 ],
 "metadata": {
  "kernelspec": {
   "display_name": "Python 3",
   "language": "python",
   "name": "python3"
  },
  "language_info": {
   "codemirror_mode": {
    "name": "ipython",
    "version": 3
   },
   "file_extension": ".py",
   "mimetype": "text/x-python",
   "name": "python",
   "nbconvert_exporter": "python",
   "pygments_lexer": "ipython3",
   "version": "3.11.1"
  },
  "orig_nbformat": 4
 },
 "nbformat": 4,
 "nbformat_minor": 2
}
